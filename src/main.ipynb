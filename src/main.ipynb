{
 "cells": [
  {
   "cell_type": "markdown",
   "id": "5496c50a-512a-44a4-bcbe-e4a15efc390b",
   "metadata": {},
   "source": [
    "# IMPORT subprocess\n",
    "---\n",
    "main.py를 수행시키기 위한 서브프로세스 정의   \n",
    "터미널에서 직접 해당 명령을 수행하는 것과 같은 동작"
   ]
  },
  {
   "cell_type": "code",
   "execution_count": 1,
   "id": "d6f93551-96de-416d-be75-7b24c3fc3672",
   "metadata": {
    "tags": []
   },
   "outputs": [],
   "source": [
    "import subprocess\n",
    "from datetime import datetime"
   ]
  },
  {
   "cell_type": "code",
   "execution_count": 2,
   "id": "84dd0542",
   "metadata": {
    "collapsed": false,
    "is_executing": true,
    "jupyter": {
     "outputs_hidden": false
    }
   },
   "outputs": [],
   "source": [
    "today = datetime.now().strftime(\"%Y-%m-%d\")\n",
    "model_name = \"ncf\""
   ]
  },
  {
   "cell_type": "markdown",
   "id": "dc35a42a-2332-482e-ab5a-66329a076ed9",
   "metadata": {},
   "source": [
    "# PREPARE TRAIN DATA\n",
    "---\n",
    "학습용 데이터 전처리 과정"
   ]
  },
  {
   "cell_type": "code",
   "execution_count": 3,
   "id": "3a67ca43-db8f-428a-893e-6e5d10e57e58",
   "metadata": {
    "tags": []
   },
   "outputs": [
    {
     "name": "stdout",
     "output_type": "stream",
     "text": [
      "INFO:root:[TASK-START] prepare-train-data\n",
      "INFO:root:[TASK-END] prepare-train-data\n",
      "\n"
     ]
    }
   ],
   "source": [
    "command = f\"\"\"\n",
    "python main.py \\\n",
    "  --base_date {today} \\\n",
    "  --task prepare-train-data \\\n",
    "  --model_name {model_name}\n",
    "\"\"\"\n",
    "p = subprocess.run(command.split(), stdout=subprocess.PIPE, stderr=subprocess.STDOUT)\n",
    "print(p.stdout.decode(\"utf-8\"))"
   ]
  },
  {
   "cell_type": "markdown",
   "id": "f0d0a2da-6d0b-41fb-9904-96f126582f9b",
   "metadata": {},
   "source": [
    "# PREPARE INFERENCE DATA\n",
    "---\n",
    "추론용 데이터 전처리 과정"
   ]
  },
  {
   "cell_type": "code",
   "execution_count": 4,
   "id": "23e3a2ce-33b5-44c1-87b5-218b2a5dfeac",
   "metadata": {
    "tags": []
   },
   "outputs": [
    {
     "name": "stdout",
     "output_type": "stream",
     "text": [
      "INFO:root:[TASK-START] prepare-inference-data\n",
      "INFO:root:dataset_dir : /home/sagemaker-user/mlops-recommend-system/local/input/data\n",
      "INFO:root:src : /home/sagemaker-user/mlops-recommend-system/local/input/data/train\n",
      "INFO:root:dst : /home/sagemaker-user/mlops-recommend-system/local/input/data/inference\n",
      "INFO:root:success all process!\n",
      "INFO:root:[TASK-END] prepare-inference-data\n",
      "\n"
     ]
    }
   ],
   "source": [
    "command = f\"\"\"\n",
    "python main.py \\\n",
    "  --base_date {today} \\\n",
    "  --task prepare-inference-data \\\n",
    "  --dataset_name prepared_watch_log \\\n",
    "  --model_name {model_name}\n",
    "\"\"\"\n",
    "p = subprocess.run(command.split(), stdout=subprocess.PIPE, stderr=subprocess.STDOUT)\n",
    "print(p.stdout.decode(\"utf-8\"))"
   ]
  },
  {
   "cell_type": "markdown",
   "id": "8ebe7e17-7fd1-45fe-a93d-af47074f2a0b",
   "metadata": {},
   "source": [
    "# TRAIN\n",
    "---\n",
    "모델 학습 수행"
   ]
  },
  {
   "cell_type": "code",
   "execution_count": 5,
   "id": "8ea7bc66-7f32-4d0e-8f84-7e9fdb01fc89",
   "metadata": {
    "tags": []
   },
   "outputs": [
    {
     "name": "stdout",
     "output_type": "stream",
     "text": [
      "INFO:root:[TASK-START] train\n",
      "INFO:root:Generating data...\n",
      "INFO:root:Download NCF data\n",
      "INFO:root:Download Success!\n",
      "INFO:root:   user_id  contents_code  watch_seconds\n",
      "0        1          10607             56\n",
      "1        1        1012201           1069\n",
      "2        1          82690           1643\n",
      "3        1         810271           3872\n",
      "4        1         146233           2910\n",
      "INFO:root:Run NCF Data Preprocess\n",
      "INFO:root:Preprocess Index\n",
      "INFO:root:   user_id  contents_code\n",
      "0        1          10607\n",
      "1        1        1012201\n",
      "2        1          82690\n",
      "3        1         810271\n",
      "4        1         146233\n",
      "INFO:root:Save Index\n",
      "INFO:root:user_index_dst : /home/sagemaker-user/mlops-recommend-system/local/output/data/index/user_index.csv\n",
      "INFO:root:user_index_dst : /home/sagemaker-user/mlops-recommend-system/local/output/data/index/item_index.csv\n",
      "INFO:root:Save Success!\n",
      "INFO:root:Data Split ...\n",
      "INFO:root:user_num: 474\n",
      "INFO:root:item_num: 938\n",
      "INFO:root:Length of train_data: 4037\n",
      "INFO:root:Length of valid_data: 1009\n",
      "INFO:root:Load NCF model...\n",
      "INFO:root:MODEL Item num : 938\n",
      "INFO:root:Start Training Process...\n",
      "INFO:root:Arguments : {'base_date': '2024-04-13',\n",
      " 'batch_size': 128,\n",
      " 'checkpoint_path': '/home/sagemaker-user/mlops-recommend-system/local/checkpoints',\n",
      " 'dataset_dir': '/home/sagemaker-user/mlops-recommend-system/local/input/data',\n",
      " 'dataset_name': 'prepared_watch_log',\n",
      " 'dataset_version': 1,\n",
      " 'dropout': 0.2,\n",
      " 'epochs': 2,\n",
      " 'factor_num': 64,\n",
      " 'gpu': '0',\n",
      " 'learning_rate': 0.1,\n",
      " 'log_level': 20,\n",
      " 'loss_function_name': 'BCEWithLogitsLoss',\n",
      " 'loss_function_params': '{}',\n",
      " 'model_dir': '/home/sagemaker-user/mlops-recommend-system/local/model',\n",
      " 'model_name': 'ncf',\n",
      " 'num_gpus': 0,\n",
      " 'num_layers': 3,\n",
      " 'num_workers': 0,\n",
      " 'optimizer_name': 'Adam',\n",
      " 'optimizer_params': '{\"lr\":0.001}',\n",
      " 'output_dir': '/home/sagemaker-user/mlops-recommend-system/local/output',\n",
      " 'scheduler_name': 'MultiStepLR',\n",
      " 'scheduler_params': '{\"milestones\":[15,25,32,40,45],\"gamma\":0.5}',\n",
      " 'seed': 0,\n",
      " 'serve_contents_type': 'movie',\n",
      " 'serve_recommend_type': 'like',\n",
      " 'task': 'train',\n",
      " 'test_num_ng': 50,\n",
      " 'top_k': 5,\n",
      " 'train_num_ng': 6,\n",
      " 'use_cuda': False,\n",
      " 'valid_num_ng': 99}\n",
      "INFO:root:Set seed : 0\n",
      "INFO:root:Load datasets\n",
      "INFO:root:Load dataloaders\n",
      "INFO:root:Load loss function function : BCEWithLogitsLoss\n",
      "INFO:root:Loss function params : {}\n",
      "INFO:root:Load optimizer : Adam\n",
      "INFO:root:Optimizer params : {\"lr\":0.001}\n",
      "INFO:root:Load scheduler : MultiStepLR\n",
      "INFO:root:Scheduler params : '{\"milestones\":[15,25,32,40,45],\"gamma\":0.5}'\n",
      "INFO:root:NCF(\n",
      "  (embed_user_GMF): Embedding(474, 64)\n",
      "  (embed_item_GMF): Embedding(938, 64)\n",
      "  (embed_user_MLP): Embedding(474, 256)\n",
      "  (embed_item_MLP): Embedding(938, 256)\n",
      "  (MLP_layers): Sequential(\n",
      "    (0): Dropout(p=0.2, inplace=False)\n",
      "    (1): Linear(in_features=512, out_features=256, bias=True)\n",
      "    (2): ReLU()\n",
      "    (3): Dropout(p=0.2, inplace=False)\n",
      "    (4): Linear(in_features=256, out_features=128, bias=True)\n",
      "    (5): ReLU()\n",
      "    (6): Dropout(p=0.2, inplace=False)\n",
      "    (7): Linear(in_features=128, out_features=64, bias=True)\n",
      "    (8): ReLU()\n",
      "  )\n",
      "  (predict_layer): Linear(in_features=128, out_features=1, bias=True)\n",
      "  (final_act): Sigmoid()\n",
      ")\n",
      "INFO:root:Epoch: 1\n",
      "INFO:root:Train loss: 0.5480;\n",
      "INFO:root:End Train | Time: 0:00:01.014746\n",
      "INFO:root:Valid loss: 0.4660;\n",
      "INFO:root:End Valid | Time: 0:00:00.110715\n",
      "INFO:root:Calculating metrics...\n",
      "INFO:root:End Metric | Time: 0:00:01.803828\n",
      "INFO:root:HR: 0.108;\n",
      "INFO:root:NDCG: 0.061;\n",
      "INFO:root:VAR: 0.118;\n",
      "INFO:root:Saved best VAR model\n",
      "INFO:root:Saving the Checkpoint: /home/sagemaker-user/mlops-recommend-system/local/checkpoints\n",
      "INFO:root:Epoch: 1 | Time: 0:00:02.944555\n",
      "INFO:root:Epoch: 2\n",
      "INFO:root:Train loss: 0.4128;\n",
      "INFO:root:End Train | Time: 0:00:00.939826\n",
      "INFO:root:Valid loss: 0.4700;\n",
      "INFO:root:End Valid | Time: 0:00:00.167734\n",
      "INFO:root:Calculating metrics...\n",
      "INFO:root:End Metric | Time: 0:00:01.627955\n",
      "INFO:root:HR: 0.101;\n",
      "INFO:root:NDCG: 0.062;\n",
      "INFO:root:VAR: 0.116;\n",
      "INFO:root:Epoch: 2 | Time: 0:00:02.736260\n",
      "INFO:root:[TASK-END] train\n",
      "\n"
     ]
    }
   ],
   "source": [
    "command = f\"\"\"\n",
    "python main.py \\\n",
    "  --base_date {today} \\\n",
    "  --task train \\\n",
    "  --dataset_name prepared_watch_log \\\n",
    "  --model_name {model_name}\n",
    "\"\"\"\n",
    "p = subprocess.run(command.split(), stdout=subprocess.PIPE, stderr=subprocess.STDOUT)\n",
    "print(p.stdout.decode(\"utf-8\"))"
   ]
  },
  {
   "cell_type": "markdown",
   "id": "f06eaae1-6fb9-44d5-beff-ea65f3869081",
   "metadata": {},
   "source": [
    "# INFERENCE\n",
    "---\n",
    "학습된 모델을 통해 추론 수행"
   ]
  },
  {
   "cell_type": "code",
   "execution_count": 6,
   "id": "91b276df-78b3-4229-9b78-f22532796390",
   "metadata": {
    "tags": []
   },
   "outputs": [
    {
     "name": "stdout",
     "output_type": "stream",
     "text": [
      "INFO:root:[TASK-START] inference\n",
      "INFO:root:Base Date: 2024-04-13 00:00:00\n",
      "INFO:root:model : NCF(\n",
      "  (embed_user_GMF): Embedding(474, 64)\n",
      "  (embed_item_GMF): Embedding(938, 64)\n",
      "  (embed_user_MLP): Embedding(474, 256)\n",
      "  (embed_item_MLP): Embedding(938, 256)\n",
      "  (MLP_layers): Sequential(\n",
      "    (0): Dropout(p=0.2, inplace=False)\n",
      "    (1): Linear(in_features=512, out_features=256, bias=True)\n",
      "    (2): ReLU()\n",
      "    (3): Dropout(p=0.2, inplace=False)\n",
      "    (4): Linear(in_features=256, out_features=128, bias=True)\n",
      "    (5): ReLU()\n",
      "    (6): Dropout(p=0.2, inplace=False)\n",
      "    (7): Linear(in_features=128, out_features=64, bias=True)\n",
      "    (8): ReLU()\n",
      "  )\n",
      "  (predict_layer): Linear(in_features=128, out_features=1, bias=True)\n",
      "  (final_act): Sigmoid()\n",
      ")\n",
      "INFO:root:Data Load Completed\n",
      "INFO:root:Inference Completed\n",
      "INFO:root:186\n",
      "INFO:root:[(0,\n",
      "  [{'code': 13, 'score': 0.3573428690433502},\n",
      "   {'code': 792307, 'score': 0.33879655599594116},\n",
      "   {'code': 10191, 'score': 0.30933794379234314},\n",
      "   {'code': 676547, 'score': 0.27700939774513245},\n",
      "   {'code': 128, 'score': 0.27252867817878723}]),\n",
      " (2,\n",
      "  [{'code': 872585, 'score': 0.34748879075050354},\n",
      "   {'code': 994108, 'score': 0.33869853615760803},\n",
      "   {'code': 1015908, 'score': 0.33831751346588135},\n",
      "   {'code': 105, 'score': 0.326913982629776},\n",
      "   {'code': 9023, 'score': 0.30697202682495117}]),\n",
      " (5,\n",
      "  [{'code': 785084, 'score': 0.29975131154060364},\n",
      "   {'code': 949, 'score': 0.28548240661621094},\n",
      "   {'code': 539, 'score': 0.2773953378200531},\n",
      "   {'code': 507089, 'score': 0.24898767471313477},\n",
      "   {'code': 496450, 'score': 0.24679653346538544}]),\n",
      " (7,\n",
      "  [{'code': 13, 'score': 0.33489543199539185},\n",
      "   {'code': 500664, 'score': 0.3032340109348297},\n",
      "   {'code': 18095, 'score': 0.2897595763206482},\n",
      "   {'code': 4951, 'score': 0.2855118215084076},\n",
      "   {'code': 807, 'score': 0.27879688143730164}]),\n",
      " (10,\n",
      "  [{'code': 337404, 'score': 0.2978375256061554},\n",
      "   {'code': 337404, 'score': 0.29343515634536743},\n",
      "   {'code': 329865, 'score': 0.287492960691452},\n",
      "   {'code': 1015908, 'score': 0.2846662700176239},\n",
      "   {'code': 850165, 'score': 0.273162305355072}]),\n",
      " (12,\n",
      "  [{'code': 10191, 'score': 0.27866995334625244},\n",
      "   {'code': 120, 'score': 0.27372556924819946},\n",
      "   {'code': 840326, 'score': 0.26020243763923645},\n",
      "   {'code': 539, 'score': 0.2578604519367218},\n",
      "   {'code': 1231942, 'score': 0.253314346075058}]),\n",
      " (15,\n",
      "  [{'code': 155, 'score': 0.3697912395000458},\n",
      "   {'code': 120, 'score': 0.3130190670490265},\n",
      "   {'code': 976573, 'score': 0.3088006377220154},\n",
      "   {'code': 337404, 'score': 0.278163343667984},\n",
      "   {'code': 1128606, 'score': 0.2772293984889984}]),\n",
      " (17,\n",
      "  [{'code': 467407, 'score': 0.3082527816295624},\n",
      "   {'code': 679, 'score': 0.2861078977584839},\n",
      "   {'code': 574074, 'score': 0.27396467328071594},\n",
      "   {'code': 297802, 'score': 0.2648116946220398},\n",
      "   {'code': 713704, 'score': 0.26473677158355713}]),\n",
      " (20,\n",
      "  [{'code': 1015908, 'score': 0.34213653206825256},\n",
      "   {'code': 372058, 'score': 0.31257364153862},\n",
      "   {'code': 348, 'score': 0.3079066574573517},\n",
      "   {'code': 585, 'score': 0.303871214389801},\n",
      "   {'code': 296096, 'score': 0.27239465713500977}]),\n",
      " (23,\n",
      "  [{'code': 467407, 'score': 0.2720005214214325},\n",
      "   {'code': 550, 'score': 0.26758474111557007},\n",
      "   {'code': 101, 'score': 0.25965362787246704},\n",
      "   {'code': 502356, 'score': 0.254457950592041},\n",
      "   {'code': 348, 'score': 0.2528969645500183}])]\n",
      "INFO:root:Inference Completed\n",
      "INFO:root:[TASK-END] inference\n",
      "\n"
     ]
    }
   ],
   "source": [
    "command = f\"\"\"\n",
    "python main.py \\\n",
    "  --base_date {today} \\\n",
    "  --task inference \\\n",
    "  --dataset_name prepared_watch_log \\\n",
    "  --num_workers 0 \\\n",
    "  --model_name {model_name}\n",
    "\"\"\"\n",
    "p = subprocess.run(command.split(), stdout=subprocess.PIPE, stderr=subprocess.STDOUT)\n",
    "print(p.stdout.decode(\"utf-8\"))"
   ]
  },
  {
   "cell_type": "code",
   "execution_count": null,
   "id": "b94efd68-5dbe-4008-8fa5-d15f8aed45a7",
   "metadata": {},
   "outputs": [],
   "source": []
  },
  {
   "cell_type": "code",
   "execution_count": null,
   "id": "0510c602-0500-4b26-b632-9f5f72b0af17",
   "metadata": {},
   "outputs": [],
   "source": []
  },
  {
   "cell_type": "code",
   "execution_count": null,
   "id": "4b6a609b-729b-4390-a36f-db67a88d4045",
   "metadata": {},
   "outputs": [],
   "source": []
  },
  {
   "cell_type": "code",
   "execution_count": null,
   "id": "b92cfe6b-385d-4eac-9e5d-c344ac6207a4",
   "metadata": {},
   "outputs": [],
   "source": []
  },
  {
   "cell_type": "code",
   "execution_count": null,
   "id": "3ac252d1-b0cc-4b5f-89c4-43f2114d463a",
   "metadata": {},
   "outputs": [],
   "source": []
  }
 ],
 "metadata": {
  "instance_type": "ml.t3.medium",
  "kernelspec": {
   "display_name": "Python 3 (ipykernel)",
   "language": "python",
   "name": "python3"
  },
  "language_info": {
   "codemirror_mode": {
    "name": "ipython",
    "version": 3
   },
   "file_extension": ".py",
   "mimetype": "text/x-python",
   "name": "python",
   "nbconvert_exporter": "python",
   "pygments_lexer": "ipython3",
   "version": "3.10.14"
  }
 },
 "nbformat": 4,
 "nbformat_minor": 5
}
